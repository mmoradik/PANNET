{
 "cells": [
  {
   "cell_type": "code",
   "execution_count": 1,
   "metadata": {
    "collapsed": false
   },
   "outputs": [],
   "source": [
    "%load_ext autoreload\n",
    "%autoreload 2"
   ]
  },
  {
   "cell_type": "code",
   "execution_count": 4,
   "metadata": {
    "collapsed": false
   },
   "outputs": [],
   "source": [
    "import numpy as np\n",
    "import pandas as pd\n",
    "import random\n",
    "from Utils import *\n",
    "import matplotlib.pyplot as plt\n",
    "%matplotlib inline\n",
    "initialization()"
   ]
  },
  {
   "cell_type": "code",
   "execution_count": 5,
   "metadata": {
    "collapsed": false
   },
   "outputs": [
    {
     "data": {
      "text/plain": [
       "array([ 0.1,  0.1,  0.1,  0.1,  0.1,  0.1,  0.1,  0.1])"
      ]
     },
     "execution_count": 5,
     "metadata": {},
     "output_type": "execute_result"
    }
   ],
   "source": [
    "X0"
   ]
  },
  {
   "cell_type": "code",
   "execution_count": 6,
   "metadata": {
    "collapsed": false
   },
   "outputs": [],
   "source": [
    "#t=np.arange(0,289)\n",
    "#Sunspot=10*np.sin(t/10)\n",
    "\n",
    "Sunspot=pd.read_excel(\"Sunspot_series.xls\", header=None)[1].values[0:-1]\n",
    "Sc=MinMaxScaler(feature_range=(-.8, .8))\n",
    "Sunspot_normed=Sc.fit_transform(Sunspot.reshape(-1, 1))\n",
    "Data=Sunspot_normed.copy() # normalized data\n",
    "\n",
    "n_training=221\n",
    "\n",
    "y_a=Sc.inverse_transform(Data) #actual data\n",
    "\n",
    "Train_orig=y_a[:n_training]  #y_a\n",
    "Test_orig=y_a[n_training:]#Sunspot_normed\n",
    "\n",
    "\n",
    "Error, MinFit,MaxFit,AvgFit,UNI,Train_predict,Test_predict,Network=Evolution(Data,y_a,n_training,Sc)"
   ]
  },

 ],

 "nbformat": 4,
 "nbformat_minor": 0
}
